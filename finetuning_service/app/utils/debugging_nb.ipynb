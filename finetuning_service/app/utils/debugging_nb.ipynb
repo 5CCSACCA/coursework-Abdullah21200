{
 "cells": [
  {
   "cell_type": "code",
   "execution_count": 1,
   "metadata": {},
   "outputs": [],
   "source": [
    "import yfinance as yf\n",
    "import pandas as pd\n",
    "from datetime import datetime, timedelta\n",
    "import os\n",
    "import sqlite3\n"
   ]
  },
  {
   "cell_type": "markdown",
   "metadata": {},
   "source": [
    "# Checking logic of fucntions"
   ]
  },
  {
   "cell_type": "code",
   "execution_count": 2,
   "metadata": {},
   "outputs": [],
   "source": [
    "\n",
    "def fetch_last_6_month_data(ticker=\"NVDA\"):\n",
    "    \"\"\"\"\n",
    "    Fetch the last 6 month data for a stock from Yahoo Finance\"\"\"\n",
    "    end_date = datetime.now().date()\n",
    "    start_date = end_date - timedelta(days=180)\n",
    "    df = yf.download(ticker, start=start_date, end=end_date)\n",
    "    return df"
   ]
  },
  {
   "cell_type": "code",
   "execution_count": 3,
   "metadata": {},
   "outputs": [],
   "source": [
    "\n",
    "def save_data_to_db(df, db_path=\"database/nvda_stock.db\", table_name=\"nvidia_prices\"):\n",
    "\n",
    "    \"\"\"\"\n",
    "    Store the fetched data in a SQLite database\n",
    "    If the table does not exist, it will be created\"\"\"\n",
    "\n",
    "    conn = sqlite3.connect(db_path)\n",
    "\n",
    "    # Flatten MultiIndex columns\n",
    "\n",
    "    df = df.copy()\n",
    "\n",
    "    df.columns = [col[0] if col[0] != '' else col[1] for col in df.columns]\n",
    "\n",
    "    df.reset_index(inplace=True)\n",
    "    \n",
    "    df[\"Date\"] = df[\"Date\"].dt.strftime('%Y-%m-%d')\n",
    "\n",
    "\n",
    "\n",
    "    #create table if not exists\n",
    "    df.to_sql(table_name, conn, if_exists=\"replace\", index=False)\n",
    "\n",
    "\n",
    "\n",
    "    # remove any existing data\n",
    "    conn.execute(f\"\"\"\n",
    "        DELETE FROM {table_name}\n",
    "        WHERE rowid NOT IN (\n",
    "            SELECT MIN(rowid)\n",
    "            FROM {table_name}\n",
    "            GROUP BY Date\n",
    "        );\n",
    "    \"\"\")\n",
    "    conn.commit()\n",
    "\n",
    "    conn.close()\n",
    "\n",
    "    print(f\"Data saved to {table_name} table\")\n"
   ]
  },
  {
   "cell_type": "code",
   "execution_count": 4,
   "metadata": {},
   "outputs": [
    {
     "name": "stderr",
     "output_type": "stream",
     "text": [
      "[*********************100%***********************]  1 of 1 completed\n"
     ]
    },
    {
     "data": {
      "text/html": [
       "<div>\n",
       "<style scoped>\n",
       "    .dataframe tbody tr th:only-of-type {\n",
       "        vertical-align: middle;\n",
       "    }\n",
       "\n",
       "    .dataframe tbody tr th {\n",
       "        vertical-align: top;\n",
       "    }\n",
       "\n",
       "    .dataframe thead tr th {\n",
       "        text-align: left;\n",
       "    }\n",
       "\n",
       "    .dataframe thead tr:last-of-type th {\n",
       "        text-align: right;\n",
       "    }\n",
       "</style>\n",
       "<table border=\"1\" class=\"dataframe\">\n",
       "  <thead>\n",
       "    <tr>\n",
       "      <th>Price</th>\n",
       "      <th>Adj Close</th>\n",
       "      <th>Close</th>\n",
       "      <th>High</th>\n",
       "      <th>Low</th>\n",
       "      <th>Open</th>\n",
       "      <th>Volume</th>\n",
       "    </tr>\n",
       "    <tr>\n",
       "      <th>Ticker</th>\n",
       "      <th>NVDA</th>\n",
       "      <th>NVDA</th>\n",
       "      <th>NVDA</th>\n",
       "      <th>NVDA</th>\n",
       "      <th>NVDA</th>\n",
       "      <th>NVDA</th>\n",
       "    </tr>\n",
       "    <tr>\n",
       "      <th>Date</th>\n",
       "      <th></th>\n",
       "      <th></th>\n",
       "      <th></th>\n",
       "      <th></th>\n",
       "      <th></th>\n",
       "      <th></th>\n",
       "    </tr>\n",
       "  </thead>\n",
       "  <tbody>\n",
       "    <tr>\n",
       "      <th>2024-06-21</th>\n",
       "      <td>126.550453</td>\n",
       "      <td>126.570000</td>\n",
       "      <td>130.630005</td>\n",
       "      <td>124.300003</td>\n",
       "      <td>127.120003</td>\n",
       "      <td>655484700</td>\n",
       "    </tr>\n",
       "    <tr>\n",
       "      <th>2024-06-24</th>\n",
       "      <td>118.091759</td>\n",
       "      <td>118.110001</td>\n",
       "      <td>124.459999</td>\n",
       "      <td>118.040001</td>\n",
       "      <td>123.239998</td>\n",
       "      <td>476060900</td>\n",
       "    </tr>\n",
       "    <tr>\n",
       "      <th>2024-06-25</th>\n",
       "      <td>126.070518</td>\n",
       "      <td>126.089996</td>\n",
       "      <td>126.500000</td>\n",
       "      <td>119.320000</td>\n",
       "      <td>121.199997</td>\n",
       "      <td>425787500</td>\n",
       "    </tr>\n",
       "    <tr>\n",
       "      <th>2024-06-26</th>\n",
       "      <td>126.380486</td>\n",
       "      <td>126.400002</td>\n",
       "      <td>128.119995</td>\n",
       "      <td>122.599998</td>\n",
       "      <td>126.129997</td>\n",
       "      <td>362975900</td>\n",
       "    </tr>\n",
       "    <tr>\n",
       "      <th>2024-06-27</th>\n",
       "      <td>123.970848</td>\n",
       "      <td>123.989998</td>\n",
       "      <td>126.410004</td>\n",
       "      <td>122.919998</td>\n",
       "      <td>124.099998</td>\n",
       "      <td>252571700</td>\n",
       "    </tr>\n",
       "  </tbody>\n",
       "</table>\n",
       "</div>"
      ],
      "text/plain": [
       "Price        Adj Close       Close        High         Low        Open  \\\n",
       "Ticker            NVDA        NVDA        NVDA        NVDA        NVDA   \n",
       "Date                                                                     \n",
       "2024-06-21  126.550453  126.570000  130.630005  124.300003  127.120003   \n",
       "2024-06-24  118.091759  118.110001  124.459999  118.040001  123.239998   \n",
       "2024-06-25  126.070518  126.089996  126.500000  119.320000  121.199997   \n",
       "2024-06-26  126.380486  126.400002  128.119995  122.599998  126.129997   \n",
       "2024-06-27  123.970848  123.989998  126.410004  122.919998  124.099998   \n",
       "\n",
       "Price          Volume  \n",
       "Ticker           NVDA  \n",
       "Date                   \n",
       "2024-06-21  655484700  \n",
       "2024-06-24  476060900  \n",
       "2024-06-25  425787500  \n",
       "2024-06-26  362975900  \n",
       "2024-06-27  252571700  "
      ]
     },
     "execution_count": 4,
     "metadata": {},
     "output_type": "execute_result"
    }
   ],
   "source": [
    "from datetime import datetime, timedelta\n",
    "\n",
    "df = fetch_last_6_month_data()\n",
    "\n",
    "df.head()\n"
   ]
  },
  {
   "cell_type": "markdown",
   "metadata": {},
   "source": [
    "# data preprocessing\n"
   ]
  },
  {
   "cell_type": "code",
   "execution_count": 5,
   "metadata": {},
   "outputs": [
    {
     "data": {
      "text/html": [
       "<div>\n",
       "<style scoped>\n",
       "    .dataframe tbody tr th:only-of-type {\n",
       "        vertical-align: middle;\n",
       "    }\n",
       "\n",
       "    .dataframe tbody tr th {\n",
       "        vertical-align: top;\n",
       "    }\n",
       "\n",
       "    .dataframe thead tr th {\n",
       "        text-align: left;\n",
       "    }\n",
       "\n",
       "    .dataframe thead tr:last-of-type th {\n",
       "        text-align: right;\n",
       "    }\n",
       "</style>\n",
       "<table border=\"1\" class=\"dataframe\">\n",
       "  <thead>\n",
       "    <tr>\n",
       "      <th>Price</th>\n",
       "      <th>Adj Close</th>\n",
       "      <th>Close</th>\n",
       "      <th>High</th>\n",
       "      <th>Low</th>\n",
       "      <th>Open</th>\n",
       "      <th>Volume</th>\n",
       "    </tr>\n",
       "    <tr>\n",
       "      <th>Ticker</th>\n",
       "      <th>NVDA</th>\n",
       "      <th>NVDA</th>\n",
       "      <th>NVDA</th>\n",
       "      <th>NVDA</th>\n",
       "      <th>NVDA</th>\n",
       "      <th>NVDA</th>\n",
       "    </tr>\n",
       "    <tr>\n",
       "      <th>Date</th>\n",
       "      <th></th>\n",
       "      <th></th>\n",
       "      <th></th>\n",
       "      <th></th>\n",
       "      <th></th>\n",
       "      <th></th>\n",
       "    </tr>\n",
       "  </thead>\n",
       "  <tbody>\n",
       "    <tr>\n",
       "      <th>2024-06-21</th>\n",
       "      <td>126.550453</td>\n",
       "      <td>126.570000</td>\n",
       "      <td>130.630005</td>\n",
       "      <td>124.300003</td>\n",
       "      <td>127.120003</td>\n",
       "      <td>655484700</td>\n",
       "    </tr>\n",
       "    <tr>\n",
       "      <th>2024-06-24</th>\n",
       "      <td>118.091759</td>\n",
       "      <td>118.110001</td>\n",
       "      <td>124.459999</td>\n",
       "      <td>118.040001</td>\n",
       "      <td>123.239998</td>\n",
       "      <td>476060900</td>\n",
       "    </tr>\n",
       "    <tr>\n",
       "      <th>2024-06-25</th>\n",
       "      <td>126.070518</td>\n",
       "      <td>126.089996</td>\n",
       "      <td>126.500000</td>\n",
       "      <td>119.320000</td>\n",
       "      <td>121.199997</td>\n",
       "      <td>425787500</td>\n",
       "    </tr>\n",
       "    <tr>\n",
       "      <th>2024-06-26</th>\n",
       "      <td>126.380486</td>\n",
       "      <td>126.400002</td>\n",
       "      <td>128.119995</td>\n",
       "      <td>122.599998</td>\n",
       "      <td>126.129997</td>\n",
       "      <td>362975900</td>\n",
       "    </tr>\n",
       "    <tr>\n",
       "      <th>2024-06-27</th>\n",
       "      <td>123.970848</td>\n",
       "      <td>123.989998</td>\n",
       "      <td>126.410004</td>\n",
       "      <td>122.919998</td>\n",
       "      <td>124.099998</td>\n",
       "      <td>252571700</td>\n",
       "    </tr>\n",
       "  </tbody>\n",
       "</table>\n",
       "</div>"
      ],
      "text/plain": [
       "Price        Adj Close       Close        High         Low        Open  \\\n",
       "Ticker            NVDA        NVDA        NVDA        NVDA        NVDA   \n",
       "Date                                                                     \n",
       "2024-06-21  126.550453  126.570000  130.630005  124.300003  127.120003   \n",
       "2024-06-24  118.091759  118.110001  124.459999  118.040001  123.239998   \n",
       "2024-06-25  126.070518  126.089996  126.500000  119.320000  121.199997   \n",
       "2024-06-26  126.380486  126.400002  128.119995  122.599998  126.129997   \n",
       "2024-06-27  123.970848  123.989998  126.410004  122.919998  124.099998   \n",
       "\n",
       "Price          Volume  \n",
       "Ticker           NVDA  \n",
       "Date                   \n",
       "2024-06-21  655484700  \n",
       "2024-06-24  476060900  \n",
       "2024-06-25  425787500  \n",
       "2024-06-26  362975900  \n",
       "2024-06-27  252571700  "
      ]
     },
     "execution_count": 5,
     "metadata": {},
     "output_type": "execute_result"
    }
   ],
   "source": [
    "df.sort_values(by=\"Date\", ascending=True, inplace=True)\n",
    "df.head()"
   ]
  },
  {
   "cell_type": "code",
   "execution_count": 6,
   "metadata": {},
   "outputs": [
    {
     "data": {
      "text/plain": [
       "<Axes: title={'center': 'NVDA Stock Price'}, xlabel='Date', ylabel='Price (USD)'>"
      ]
     },
     "execution_count": 6,
     "metadata": {},
     "output_type": "execute_result"
    },
    {
     "data": {
      "image/png": "[encoded data removed]",
      "text/plain": [
       "<Figure size 640x480 with 1 Axes>"
      ]
     },
     "metadata": {},
     "output_type": "display_data"
    }
   ],
   "source": [
    "df[\"Close\"].plot(title=\"NVDA Stock Price\", ylabel=\"Price (USD)\", xlabel=\"Date\")\n"
   ]
  },
  {
   "cell_type": "code",
   "execution_count": 7,
   "metadata": {},
   "outputs": [
    {
     "data": {
      "text/html": [
       "<div>\n",
       "<style scoped>\n",
       "    .dataframe tbody tr th:only-of-type {\n",
       "        vertical-align: middle;\n",
       "    }\n",
       "\n",
       "    .dataframe tbody tr th {\n",
       "        vertical-align: top;\n",
       "    }\n",
       "\n",
       "    .dataframe thead tr th {\n",
       "        text-align: left;\n",
       "    }\n",
       "\n",
       "    .dataframe thead tr:last-of-type th {\n",
       "        text-align: right;\n",
       "    }\n",
       "</style>\n",
       "<table border=\"1\" class=\"dataframe\">\n",
       "  <thead>\n",
       "    <tr>\n",
       "      <th>Price</th>\n",
       "      <th>Close</th>\n",
       "      <th>Change(%)</th>\n",
       "    </tr>\n",
       "    <tr>\n",
       "      <th>Ticker</th>\n",
       "      <th>NVDA</th>\n",
       "      <th></th>\n",
       "    </tr>\n",
       "    <tr>\n",
       "      <th>Date</th>\n",
       "      <th></th>\n",
       "      <th></th>\n",
       "    </tr>\n",
       "  </thead>\n",
       "  <tbody>\n",
       "    <tr>\n",
       "      <th>2024-06-24</th>\n",
       "      <td>118.110001</td>\n",
       "      <td>-0.066840</td>\n",
       "    </tr>\n",
       "    <tr>\n",
       "      <th>2024-06-25</th>\n",
       "      <td>126.089996</td>\n",
       "      <td>0.067564</td>\n",
       "    </tr>\n",
       "    <tr>\n",
       "      <th>2024-06-26</th>\n",
       "      <td>126.400002</td>\n",
       "      <td>0.002459</td>\n",
       "    </tr>\n",
       "    <tr>\n",
       "      <th>2024-06-27</th>\n",
       "      <td>123.989998</td>\n",
       "      <td>-0.019066</td>\n",
       "    </tr>\n",
       "    <tr>\n",
       "      <th>2024-06-28</th>\n",
       "      <td>123.540001</td>\n",
       "      <td>-0.003629</td>\n",
       "    </tr>\n",
       "  </tbody>\n",
       "</table>\n",
       "</div>"
      ],
      "text/plain": [
       "Price            Close Change(%)\n",
       "Ticker            NVDA          \n",
       "Date                            \n",
       "2024-06-24  118.110001 -0.066840\n",
       "2024-06-25  126.089996  0.067564\n",
       "2024-06-26  126.400002  0.002459\n",
       "2024-06-27  123.989998 -0.019066\n",
       "2024-06-28  123.540001 -0.003629"
      ]
     },
     "execution_count": 7,
     "metadata": {},
     "output_type": "execute_result"
    }
   ],
   "source": [
    "df2 = df.copy()\n",
    "df2[\"Change(%)\"] = df2[\"Close\"].pct_change() \n",
    "df2.dropna(inplace=True)\n",
    "\n",
    "df2 = df2[[\"Close\", \"Change(%)\"]]\n",
    "df2.head()"
   ]
  },
  {
   "cell_type": "markdown",
   "metadata": {},
   "source": [
    "# Loading model"
   ]
  },
  {
   "cell_type": "code",
   "execution_count": 8,
   "metadata": {},
   "outputs": [
    {
     "name": "stderr",
     "output_type": "stream",
     "text": [
      "2024-12-18 11:34:40.093914: E external/local_xla/xla/stream_executor/cuda/cuda_fft.cc:477] Unable to register cuFFT factory: Attempting to register factory for plugin cuFFT when one has already been registered\n",
      "WARNING: All log messages before absl::InitializeLog() is called are written to STDERR\n",
      "E0000 00:00:1734521680.105459   16400 cuda_dnn.cc:8310] Unable to register cuDNN factory: Attempting to register factory for plugin cuDNN when one has already been registered\n",
      "E0000 00:00:1734521680.108744   16400 cuda_blas.cc:1418] Unable to register cuBLAS factory: Attempting to register factory for plugin cuBLAS when one has already been registered\n",
      "2024-12-18 11:34:40.122147: I tensorflow/core/platform/cpu_feature_guard.cc:210] This TensorFlow binary is optimized to use available CPU instructions in performance-critical operations.\n",
      "To enable the following instructions: AVX2 FMA, in other operations, rebuild TensorFlow with the appropriate compiler flags.\n",
      "I0000 00:00:1734521681.252491   16400 gpu_device.cc:2022] Created device /job:localhost/replica:0/task:0/device:GPU:0 with 13430 MB memory:  -> device: 0, name: NVIDIA GeForce RTX 4080, pci bus id: 0000:2b:00.0, compute capability: 8.9\n"
     ]
    },
    {
     "data": {
      "text/html": [
       "<pre style=\"white-space:pre;overflow-x:auto;line-height:normal;font-family:Menlo,'DejaVu Sans Mono',consolas,'Courier New',monospace\"><span style=\"font-weight: bold\">Model: \"sequential_4\"</span>\n",
       "</pre>\n"
      ],
      "text/plain": [
       "\u001b[1mModel: \"sequential_4\"\u001b[0m\n"
      ]
     },
     "metadata": {},
     "output_type": "display_data"
    },
    {
     "data": {
      "text/html": [
       "<pre style=\"white-space:pre;overflow-x:auto;line-height:normal;font-family:Menlo,'DejaVu Sans Mono',consolas,'Courier New',monospace\">┏━━━━━━━━━━━━━━━━━━━━━━━━━━━━━━━━━┳━━━━━━━━━━━━━━━━━━━━━━━━┳━━━━━━━━━━━━━━━┓\n",
       "┃<span style=\"font-weight: bold\"> Layer (type)                    </span>┃<span style=\"font-weight: bold\"> Output Shape           </span>┃<span style=\"font-weight: bold\">       Param # </span>┃\n",
       "┡━━━━━━━━━━━━━━━━━━━━━━━━━━━━━━━━━╇━━━━━━━━━━━━━━━━━━━━━━━━╇━━━━━━━━━━━━━━━┩\n",
       "│ lstm_10 (<span style=\"color: #0087ff; text-decoration-color: #0087ff\">LSTM</span>)                  │ (<span style=\"color: #00d7ff; text-decoration-color: #00d7ff\">None</span>, <span style=\"color: #00af00; text-decoration-color: #00af00\">30</span>, <span style=\"color: #00af00; text-decoration-color: #00af00\">50</span>)         │        <span style=\"color: #00af00; text-decoration-color: #00af00\">10,600</span> │\n",
       "├─────────────────────────────────┼────────────────────────┼───────────────┤\n",
       "│ lstm_11 (<span style=\"color: #0087ff; text-decoration-color: #0087ff\">LSTM</span>)                  │ (<span style=\"color: #00d7ff; text-decoration-color: #00d7ff\">None</span>, <span style=\"color: #00af00; text-decoration-color: #00af00\">30</span>, <span style=\"color: #00af00; text-decoration-color: #00af00\">50</span>)         │        <span style=\"color: #00af00; text-decoration-color: #00af00\">20,200</span> │\n",
       "├─────────────────────────────────┼────────────────────────┼───────────────┤\n",
       "│ lstm_12 (<span style=\"color: #0087ff; text-decoration-color: #0087ff\">LSTM</span>)                  │ (<span style=\"color: #00d7ff; text-decoration-color: #00d7ff\">None</span>, <span style=\"color: #00af00; text-decoration-color: #00af00\">50</span>)             │        <span style=\"color: #00af00; text-decoration-color: #00af00\">20,200</span> │\n",
       "├─────────────────────────────────┼────────────────────────┼───────────────┤\n",
       "│ dense_7 (<span style=\"color: #0087ff; text-decoration-color: #0087ff\">Dense</span>)                 │ (<span style=\"color: #00d7ff; text-decoration-color: #00d7ff\">None</span>, <span style=\"color: #00af00; text-decoration-color: #00af00\">25</span>)             │         <span style=\"color: #00af00; text-decoration-color: #00af00\">1,275</span> │\n",
       "├─────────────────────────────────┼────────────────────────┼───────────────┤\n",
       "│ dense_8 (<span style=\"color: #0087ff; text-decoration-color: #0087ff\">Dense</span>)                 │ (<span style=\"color: #00d7ff; text-decoration-color: #00d7ff\">None</span>, <span style=\"color: #00af00; text-decoration-color: #00af00\">10</span>)             │           <span style=\"color: #00af00; text-decoration-color: #00af00\">260</span> │\n",
       "└─────────────────────────────────┴────────────────────────┴───────────────┘\n",
       "</pre>\n"
      ],
      "text/plain": [
       "┏━━━━━━━━━━━━━━━━━━━━━━━━━━━━━━━━━┳━━━━━━━━━━━━━━━━━━━━━━━━┳━━━━━━━━━━━━━━━┓\n",
       "┃\u001b[1m \u001b[0m\u001b[1mLayer (type)                   \u001b[0m\u001b[1m \u001b[0m┃\u001b[1m \u001b[0m\u001b[1mOutput Shape          \u001b[0m\u001b[1m \u001b[0m┃\u001b[1m \u001b[0m\u001b[1m      Param #\u001b[0m\u001b[1m \u001b[0m┃\n",
       "┡━━━━━━━━━━━━━━━━━━━━━━━━━━━━━━━━━╇━━━━━━━━━━━━━━━━━━━━━━━━╇━━━━━━━━━━━━━━━┩\n",
       "│ lstm_10 (\u001b[38;5;33mLSTM\u001b[0m)                  │ (\u001b[38;5;45mNone\u001b[0m, \u001b[38;5;34m30\u001b[0m, \u001b[38;5;34m50\u001b[0m)         │        \u001b[38;5;34m10,600\u001b[0m │\n",
       "├─────────────────────────────────┼────────────────────────┼───────────────┤\n",
       "│ lstm_11 (\u001b[38;5;33mLSTM\u001b[0m)                  │ (\u001b[38;5;45mNone\u001b[0m, \u001b[38;5;34m30\u001b[0m, \u001b[38;5;34m50\u001b[0m)         │        \u001b[38;5;34m20,200\u001b[0m │\n",
       "├─────────────────────────────────┼────────────────────────┼───────────────┤\n",
       "│ lstm_12 (\u001b[38;5;33mLSTM\u001b[0m)                  │ (\u001b[38;5;45mNone\u001b[0m, \u001b[38;5;34m50\u001b[0m)             │        \u001b[38;5;34m20,200\u001b[0m │\n",
       "├─────────────────────────────────┼────────────────────────┼───────────────┤\n",
       "│ dense_7 (\u001b[38;5;33mDense\u001b[0m)                 │ (\u001b[38;5;45mNone\u001b[0m, \u001b[38;5;34m25\u001b[0m)             │         \u001b[38;5;34m1,275\u001b[0m │\n",
       "├─────────────────────────────────┼────────────────────────┼───────────────┤\n",
       "│ dense_8 (\u001b[38;5;33mDense\u001b[0m)                 │ (\u001b[38;5;45mNone\u001b[0m, \u001b[38;5;34m10\u001b[0m)             │           \u001b[38;5;34m260\u001b[0m │\n",
       "└─────────────────────────────────┴────────────────────────┴───────────────┘\n"
      ]
     },
     "metadata": {},
     "output_type": "display_data"
    },
    {
     "data": {
      "text/html": [
       "<pre style=\"white-space:pre;overflow-x:auto;line-height:normal;font-family:Menlo,'DejaVu Sans Mono',consolas,'Courier New',monospace\"><span style=\"font-weight: bold\"> Total params: </span><span style=\"color: #00af00; text-decoration-color: #00af00\">157,607</span> (615.66 KB)\n",
       "</pre>\n"
      ],
      "text/plain": [
       "\u001b[1m Total params: \u001b[0m\u001b[38;5;34m157,607\u001b[0m (615.66 KB)\n"
      ]
     },
     "metadata": {},
     "output_type": "display_data"
    },
    {
     "data": {
      "text/html": [
       "<pre style=\"white-space:pre;overflow-x:auto;line-height:normal;font-family:Menlo,'DejaVu Sans Mono',consolas,'Courier New',monospace\"><span style=\"font-weight: bold\"> Trainable params: </span><span style=\"color: #00af00; text-decoration-color: #00af00\">52,535</span> (205.21 KB)\n",
       "</pre>\n"
      ],
      "text/plain": [
       "\u001b[1m Trainable params: \u001b[0m\u001b[38;5;34m52,535\u001b[0m (205.21 KB)\n"
      ]
     },
     "metadata": {},
     "output_type": "display_data"
    },
    {
     "data": {
      "text/html": [
       "<pre style=\"white-space:pre;overflow-x:auto;line-height:normal;font-family:Menlo,'DejaVu Sans Mono',consolas,'Courier New',monospace\"><span style=\"font-weight: bold\"> Non-trainable params: </span><span style=\"color: #00af00; text-decoration-color: #00af00\">0</span> (0.00 B)\n",
       "</pre>\n"
      ],
      "text/plain": [
       "\u001b[1m Non-trainable params: \u001b[0m\u001b[38;5;34m0\u001b[0m (0.00 B)\n"
      ]
     },
     "metadata": {},
     "output_type": "display_data"
    },
    {
     "data": {
      "text/html": [
       "<pre style=\"white-space:pre;overflow-x:auto;line-height:normal;font-family:Menlo,'DejaVu Sans Mono',consolas,'Courier New',monospace\"><span style=\"font-weight: bold\"> Optimizer params: </span><span style=\"color: #00af00; text-decoration-color: #00af00\">105,072</span> (410.44 KB)\n",
       "</pre>\n"
      ],
      "text/plain": [
       "\u001b[1m Optimizer params: \u001b[0m\u001b[38;5;34m105,072\u001b[0m (410.44 KB)\n"
      ]
     },
     "metadata": {},
     "output_type": "display_data"
    }
   ],
   "source": [
    "import mlflow\n",
    "import mlflow.keras\n",
    "\n",
    "model_path = \"/home/abdullah/ai_workspace/project/Stock_prediction_project/shared_model/nvda_stock_model\"\n",
    "model = mlflow.keras.load_model(model_path)\n",
    "\n",
    "model.summary()\n"
   ]
  },
  {
   "cell_type": "markdown",
   "metadata": {},
   "source": [
    "# Testing if main script works"
   ]
  },
  {
   "cell_type": "code",
   "execution_count": 9,
   "metadata": {},
   "outputs": [
    {
     "name": "stderr",
     "output_type": "stream",
     "text": [
      "[*********************100%***********************]  1 of 1 completed"
     ]
    },
    {
     "name": "stdout",
     "output_type": "stream",
     "text": [
      "Data saved to nvidia_prices in /home/abdullah/ai_workspace/project/Stock_prediction_project/finetuning_service/app/utils/database/nvda_stock.db\n",
      "Data fetching complete.\n",
      "Scaled data stored in /home/abdullah/ai_workspace/project/Stock_prediction_project/finetuning_service/app/utils/database/nvda_stock_scaled.db, table: scaled_nvidia_prices\n",
      "Scaler saved to: /home/abdullah/ai_workspace/project/Stock_prediction_project/finetuning_service/app/utils/scaler.pkl\n",
      "Data preprocessing complete.\n",
      "X shape: (85, 30, 2), y shape: (85, 10)\n",
      "X_train data shape: (76, 30, 2), y_train data shape: (76, 10)\n",
      "Epoch 1/10\n"
     ]
    },
    {
     "name": "stderr",
     "output_type": "stream",
     "text": [
      "\n"
     ]
    },
    {
     "name": "stdout",
     "output_type": "stream",
     "text": [
      "\u001b[1m3/3\u001b[0m \u001b[32m━━━━━━━━━━━━━━━━━━━━\u001b[0m\u001b[37m\u001b[0m \u001b[1m3s\u001b[0m 216ms/step - loss: 0.1141 - mae: 0.2604 - val_loss: 0.0261 - val_mae: 0.1383\n",
      "Epoch 2/10\n",
      "\u001b[1m3/3\u001b[0m \u001b[32m━━━━━━━━━━━━━━━━━━━━\u001b[0m\u001b[37m\u001b[0m \u001b[1m0s\u001b[0m 71ms/step - loss: 0.0917 - mae: 0.2309 - val_loss: 0.0101 - val_mae: 0.0792\n",
      "Epoch 3/10\n",
      "\u001b[1m3/3\u001b[0m \u001b[32m━━━━━━━━━━━━━━━━━━━━\u001b[0m\u001b[37m\u001b[0m \u001b[1m0s\u001b[0m 66ms/step - loss: 0.1294 - mae: 0.2747 - val_loss: 0.0101 - val_mae: 0.0765\n",
      "Epoch 4/10\n",
      "\u001b[1m3/3\u001b[0m \u001b[32m━━━━━━━━━━━━━━━━━━━━\u001b[0m\u001b[37m\u001b[0m \u001b[1m0s\u001b[0m 74ms/step - loss: 0.0777 - mae: 0.2162 - val_loss: 0.0095 - val_mae: 0.0733\n",
      "Epoch 5/10\n",
      "\u001b[1m3/3\u001b[0m \u001b[32m━━━━━━━━━━━━━━━━━━━━\u001b[0m\u001b[37m\u001b[0m \u001b[1m0s\u001b[0m 68ms/step - loss: 0.0778 - mae: 0.2152 - val_loss: 0.0097 - val_mae: 0.0773\n",
      "Epoch 6/10\n",
      "\u001b[1m3/3\u001b[0m \u001b[32m━━━━━━━━━━━━━━━━━━━━\u001b[0m\u001b[37m\u001b[0m \u001b[1m0s\u001b[0m 71ms/step - loss: 0.0869 - mae: 0.2261 - val_loss: 0.0133 - val_mae: 0.0931\n",
      "Epoch 7/10\n",
      "\u001b[1m3/3\u001b[0m \u001b[32m━━━━━━━━━━━━━━━━━━━━\u001b[0m\u001b[37m\u001b[0m \u001b[1m0s\u001b[0m 76ms/step - loss: 0.0777 - mae: 0.2196 - val_loss: 0.0097 - val_mae: 0.0790\n"
     ]
    },
    {
     "name": "stderr",
     "output_type": "stream",
     "text": [
      "2024/12/18 11:34:46 WARNING mlflow.keras.save: You are saving a Keras model without specifying model signature.\n"
     ]
    },
    {
     "name": "stdout",
     "output_type": "stream",
     "text": [
      "Model fine-tuning completed and updated model saved at /home/abdullah/ai_workspace/project/Stock_prediction_project/shared_model/fine_tuned_model.\n",
      "All steps (fetch, preprocess, finetune) completed.\n"
     ]
    }
   ],
   "source": [
    "from data_preprocessing import DataPreprocessor\n",
    "from model_finetuning import ModelFinetuner\n",
    "from fetch_data import DataFetcher\n",
    "\n",
    "db_path = \"/home/abdullah/ai_workspace/project/Stock_prediction_project/finetuning_service/app/utils/database/nvda_stock.db\"\n",
    "scaled_db_path = \"/home/abdullah/ai_workspace/project/Stock_prediction_project/finetuning_service/app/utils/database/nvda_stock_scaled.db\"\n",
    "model_path = \"/home/abdullah/ai_workspace/project/Stock_prediction_project/shared_model/nvda_stock_model\"\n",
    "scaler_path = \"/home/abdullah/ai_workspace/project/Stock_prediction_project/finetuning_service/app/utils/scaler.pkl\"\n",
    "fine_tuned_model_path = \"/home/abdullah/ai_workspace/project/Stock_prediction_project/shared_model/fine_tuned_model\"\n",
    "\n",
    "# Instantiate each class\n",
    "fetcher = DataFetcher(db_path=db_path)\n",
    "preprocessor = DataPreprocessor(raw_db_path=db_path, scaled_db_path=scaled_db_path, scaler_path=scaler_path)\n",
    "finetuner = ModelFinetuner(scaled_db_path=scaled_db_path,model_path=model_path, fine_tuned_model_path=fine_tuned_model_path)\n",
    "\n",
    "# Run fetch step\n",
    "fetcher.run()\n",
    "# Run preprocessing step\n",
    "preprocessor.run()\n",
    "# Run finetuning step\n",
    "finetuner.run()\n",
    "\n",
    "print(\"All steps (fetch, preprocess, finetune) completed.\")"
   ]
  },
  {
   "cell_type": "code",
   "execution_count": 10,
   "metadata": {},
   "outputs": [
    {
     "name": "stdout",
     "output_type": "stream",
     "text": [
      "Tables: [('nvidia_prices',)]\n",
      "Columns in nvidia_prices table: Index(['Date', 'Adj Close', 'Close', 'High', 'Low', 'Open', 'Volume'], dtype='object')\n",
      "         Date   Adj Close       Close        High         Low        Open  \\\n",
      "0  2024-06-21  126.550453  126.570000  130.630005  124.300003  127.120003   \n",
      "1  2024-06-24  118.091759  118.110001  124.459999  118.040001  123.239998   \n",
      "2  2024-06-25  126.070518  126.089996  126.500000  119.320000  121.199997   \n",
      "3  2024-06-26  126.380486  126.400002  128.119995  122.599998  126.129997   \n",
      "4  2024-06-27  123.970848  123.989998  126.410004  122.919998  124.099998   \n",
      "\n",
      "      Volume  \n",
      "0  655484700  \n",
      "1  476060900  \n",
      "2  425787500  \n",
      "3  362975900  \n",
      "4  252571700  \n"
     ]
    }
   ],
   "source": [
    "import sqlite3\n",
    "\n",
    "conn = sqlite3.connect(db_path)\n",
    "\n",
    "tables = conn.execute(\"SELECT name FROM sqlite_master WHERE type='table';\").fetchall()\n",
    "print(f\"Tables: {tables}\")\n",
    "\n",
    "df_check = pd.read_sql_query(\"SELECT * FROM nvidia_prices LIMIT 5\", conn)\n",
    "print(f\"Columns in nvidia_prices table: {df_check.columns}\")\n",
    "print(df_check.head())\n",
    "\n",
    "conn.close()"
   ]
  },
  {
   "cell_type": "code",
   "execution_count": 11,
   "metadata": {},
   "outputs": [
    {
     "name": "stderr",
     "output_type": "stream",
     "text": [
      "[*********************100%***********************]  1 of 1 completed"
     ]
    },
    {
     "name": "stdout",
     "output_type": "stream",
     "text": [
      "Test passed: Yahoo Finance API fetch is working as expected.\n"
     ]
    },
    {
     "name": "stderr",
     "output_type": "stream",
     "text": [
      "\n"
     ]
    }
   ],
   "source": [
    "\n",
    "import pytest\n",
    "from fetch_data import DataFetcher\n",
    "\n",
    "@pytest.mark.integration\n",
    "def test_yahoo_api_fetch():\n",
    "    # Initialize DataFetcher with default ticker (NVDA)\n",
    "    fetcher = DataFetcher(ticker=\"NVDA\")\n",
    "\n",
    "    # Run fetch_data method\n",
    "    df = fetcher.fetch_data()\n",
    "\n",
    "    # Check if DataFrame is not empty\n",
    "    assert not df.empty, \"Fetched data should not be empty.\"\n",
    "\n",
    "    # Check if 'Close' column is present\n",
    "    assert 'Close' in df.columns, \"DataFrame should contain 'Close' column.\"\n",
    "\n",
    "    # Check a few basic conditions, like the shape of the DataFrame\n",
    "    # ensuring at least some rows and columns\n",
    "    assert df.shape[0] > 0, \"DataFrame should have at least one row.\"\n",
    "    assert df.shape[1] >= 2, \"DataFrame should have at least 5 columns (Open, High, Low, Close, Volume).\"\n",
    "\n",
    "    print(\"Test passed: Yahoo Finance API fetch is working as expected.\")\n",
    "\n",
    "test_yahoo_api_fetch()\n"
   ]
  }
 ],
 "metadata": {
  "kernelspec": {
   "display_name": ".venv",
   "language": "python",
   "name": "python3"
  },
  "language_info": {
   "codemirror_mode": {
    "name": "ipython",
    "version": 3
   },
   "file_extension": ".py",
   "mimetype": "text/x-python",
   "name": "python",
   "nbconvert_exporter": "python",
   "pygments_lexer": "ipython3",
   "version": "3.10.12"
  }
 },
 "nbformat": 4,
 "nbformat_minor": 2
}
