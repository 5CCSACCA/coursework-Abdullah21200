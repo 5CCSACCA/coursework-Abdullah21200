{
 "cells": [
  {
   "cell_type": "code",
   "execution_count": 11,
   "metadata": {},
   "outputs": [],
   "source": [
    "import yfinance as yf\n",
    "import pandas as pd\n",
    "import numpy as np\n",
    "import matplotlib.pyplot as plt\n",
    "from datetime import datetime\n",
    "\n",
    "from sklearn.preprocessing import MinMaxScaler\n",
    "import tensorflow as tf\n",
    "from tensorflow.keras.models import Sequential\n",
    "from tensorflow.keras.layers import Dense, LSTM, Dropout\n",
    "from tensorflow.keras.optimizers import Adam\n",
    "from tensorflow.keras.callbacks import EarlyStopping\n",
    "from tensorflow.keras.regularizers import l2\n",
    "\n",
    "\n"
   ]
  },
  {
   "cell_type": "code",
   "execution_count": 13,
   "metadata": {},
   "outputs": [
    {
     "name": "stdout",
     "output_type": "stream",
     "text": [
      "                                 Open        High         Low       Close  \\\n",
      "Date                                                                        \n",
      "2010-01-04 00:00:00-05:00    0.424381    0.426903    0.415210    0.423923   \n",
      "2010-01-05 00:00:00-05:00    0.422318    0.434698    0.422318    0.430113   \n",
      "2010-01-06 00:00:00-05:00    0.429884    0.433781    0.425757    0.432864   \n",
      "2010-01-07 00:00:00-05:00    0.430571    0.432406    0.421171    0.424381   \n",
      "2010-01-08 00:00:00-05:00    0.420942    0.428279    0.418420    0.425298   \n",
      "...                               ...         ...         ...         ...   \n",
      "2024-12-09 00:00:00-05:00  138.970001  139.949997  137.130005  138.809998   \n",
      "2024-12-10 00:00:00-05:00  139.009995  141.820007  133.789993  135.070007   \n",
      "2024-12-11 00:00:00-05:00  137.360001  140.169998  135.210007  139.309998   \n",
      "2024-12-12 00:00:00-05:00  137.080002  138.440002  135.800003  137.339996   \n",
      "2024-12-13 00:00:00-05:00  138.940002  139.600006  132.539993  134.250000   \n",
      "\n",
      "                              Volume  Dividends  Stock Splits  \n",
      "Date                                                           \n",
      "2010-01-04 00:00:00-05:00  800204000        0.0           0.0  \n",
      "2010-01-05 00:00:00-05:00  728648000        0.0           0.0  \n",
      "2010-01-06 00:00:00-05:00  649168000        0.0           0.0  \n",
      "2010-01-07 00:00:00-05:00  547792000        0.0           0.0  \n",
      "2010-01-08 00:00:00-05:00  478168000        0.0           0.0  \n",
      "...                              ...        ...           ...  \n",
      "2024-12-09 00:00:00-05:00  189308600        0.0           0.0  \n",
      "2024-12-10 00:00:00-05:00  210020900        0.0           0.0  \n",
      "2024-12-11 00:00:00-05:00  184905200        0.0           0.0  \n",
      "2024-12-12 00:00:00-05:00  159211400        0.0           0.0  \n",
      "2024-12-13 00:00:00-05:00  230976400        0.0           0.0  \n",
      "\n",
      "[3763 rows x 7 columns]\n"
     ]
    }
   ],
   "source": [
    "# CREATE TICKER INSTANCE FOR AMAZON\n",
    "#Initialize API\n",
    "nvda = yf.Ticker(\"NVDA\")\n",
    "#Make the end date the current day\n",
    "end_date = datetime.now().strftime('%Y-%m-%d')\n",
    "#Pull Stock Price History\n",
    "nvda_hist = nvda.history(start='2010-01-01',end=end_date)\n",
    "print(nvda_hist)"
   ]
  },
  {
   "cell_type": "code",
   "execution_count": null,
   "metadata": {},
   "outputs": [],
   "source": []
  }
 ],
 "metadata": {
  "kernelspec": {
   "display_name": ".venv",
   "language": "python",
   "name": "python3"
  },
  "language_info": {
   "codemirror_mode": {
    "name": "ipython",
    "version": 3
   },
   "file_extension": ".py",
   "mimetype": "text/x-python",
   "name": "python",
   "nbconvert_exporter": "python",
   "pygments_lexer": "ipython3",
   "version": "3.10.12"
  }
 },
 "nbformat": 4,
 "nbformat_minor": 2
}
